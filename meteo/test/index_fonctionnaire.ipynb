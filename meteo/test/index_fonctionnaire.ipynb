{
  "cells": [
    {
      "cell_type": "raw",
      "metadata": {},
      "source": [
        "---\n",
        "title: \"Public civil servant and inflation rate in France\"\n",
        "---"
      ],
      "id": "9ef4936d"
    },
    {
      "cell_type": "markdown",
      "metadata": {},
      "source": [
        "In the file [fonctionnaires_pauvres.py](fonctionnaires_pauvres.py) we investigated the evolution of the salary of civil servants in France through the \"Point d'indice\" evolution.\n"
      ],
      "id": "9397aac6"
    },
    {
      "cell_type": "code",
      "metadata": {},
      "source": [
        "#| echo: false\n",
        "#| warning: false\n",
        "from mathplotlib import plotly \n",
        "import plotly.express as px\n",
        "import pandas as pd\n",
        "# import seaborn as sns\n",
        "# import matplotlib.pylab as plt\n",
        "import numpy as np\n",
        "import pooch\n",
        "import zipfile\n",
        "#| echo: false\n",
        "import datetime\n",
        "from dateutil.relativedelta import relativedelta\n",
        "\n",
        "# Source: # https://www.insee.fr/fr/statistiques/serie/001763852\n",
        "\n",
        "current_time = datetime.datetime.now()\n",
        "last_date = current_time - relativedelta(months=2)\n",
        "fname_inflation = pooch.retrieve(f\"https://www.insee.fr/fr/statistiques/serie/telecharger/csv/001763852?ordre=antechronologique&transposition=donneescolonne&periodeDebut=1&anneeDebut=1990&periodeFin={last_date.month}&anneeFin={last_date.year}&revision=sansrevisions\", known_hash=None)\n",
        "\n",
        "zf = zipfile.ZipFile(fname_inflation) \n",
        "df_ipc = pd.read_csv(zf.open('valeurs_mensuelles.csv'), header=0, sep=\";\",skiprows=4)"
      ],
      "id": "16bf80be",
      "execution_count": null,
      "outputs": []
    },
    {
      "cell_type": "code",
      "metadata": {},
      "source": [
        "#| echo: false\n",
        "\n",
        "df_ipc.columns = [\"Date\", \"IPC\", \"Useless\", \"Date2\"]\n",
        "df_ipc.index = pd.to_datetime(df_ipc[\"Date\"], format=\"%Y-%m\")\n",
        "df_ipc.drop(df_ipc.columns[[0, 2]], inplace=True, axis=1)\n",
        "df_ipc.head()\n",
        "\n",
        "# Set origin\n",
        "init_date = \"2005-09-01\"\n",
        "df_ipc[\"IPC(idx)\"] = df_ipc[\"IPC\"] / df_ipc.loc[init_date][\"IPC\"]\n",
        "df_ipc.head()\n",
        "# Sort by \"Date\" in ascending order\n",
        "df_ipc.sort_values(by=\"Date\", inplace=True)"
      ],
      "id": "419337ff",
      "execution_count": null,
      "outputs": []
    },
    {
      "cell_type": "code",
      "metadata": {},
      "source": [
        "#| echo: false\n",
        "#| warning: false\n",
        "fname_pt_indice = pooch.retrieve(\"https://www.data.gouv.fr/fr/datasets/r/6b5a3e7e-7de7-437c-b8eb-a04ab4138fbb\", known_hash=None)\n",
        "\n",
        "df_pt_idx = pd.read_csv(fname_pt_indice, usecols=[\"date_effet\", \"valeur_100_points_euros\"])\n",
        "\n",
        "df_pt_idx = df_pt_idx.rename(columns={\"date_effet\": \"Date\", \"valeur_100_points_euros\": \"Point d'indice\"})\n",
        "\n",
        "df_pt_idx[\"Date\"] = pd.to_datetime(df_pt_idx[\"Date\"], format=\"%Y-%m-%d\")\n",
        "\n",
        "df_pt_idx.sort_values(by=\"Date\", inplace=True)\n",
        "\n",
        "\n",
        "df = pd.merge_asof(df_ipc, df_pt_idx, on=\"Date\")\n",
        "df.index = df[\"Date\"]\n",
        "\n",
        "\n",
        "df.loc[init_date][\"Point d'indice\"]\n",
        "df[\"Point d'indice(idx)\"] = (\n",
        "    df[\"Point d'indice\"] / df.loc[init_date][\"Point d'indice\"]\n",
        ")\n",
        "\n",
        "df[\"Point d'indice(euros constant)\"] = (\n",
        "    df[\"Point d'indice(idx)\"] / df[\"IPC(idx)\"]\n",
        ")"
      ],
      "id": "d32ed967",
      "execution_count": null,
      "outputs": []
    },
    {
      "cell_type": "code",
      "metadata": {},
      "source": [
        "#| echo: false\n",
        "fig = px.line(df, x=\"Date\", y=[\"IPC(idx)\", \"Point d'indice(idx)\"], title=\"Joint evolution of inflation and point d'indice <br> Réference 1 le \" + init_date, color_discrete_sequence=px.colors.qualitative.D3, template='none')\n",
        "fig.update_xaxes(range=[init_date, df['Date'][-1]], tickangle=-60, nticks=20\n",
        ")\n",
        "fig.update_yaxes(range=[0.80, 1.5])\n",
        "fig.update_layout(legend_title=None, xaxis_tickformat='%Y', hovermode=\"x unified\")\n",
        "fig.update_traces(hovertemplate=\"%{x|%Y/%m} value: %{y}\")\n",
        "\n",
        "# matplotlib version\n",
        "# df.plot(x=\"Date\", y=[\"IPC(idx)\", \"Point d'indice(idx)\"])\n",
        "# ax = plt.gca()\n",
        "# ax.set_xlim(left=np.datetime64(init_date))\n",
        "# ax.set_ylim(bottom=0.9)\n",
        "# plt.show()"
      ],
      "id": "e51abc04",
      "execution_count": null,
      "outputs": []
    },
    {
      "cell_type": "code",
      "metadata": {},
      "source": [
        "#| echo: false\n",
        "\n",
        "fig = px.line(df, x=\"Date\", y=[\"Point d'indice(euros constant)\"], title=\"Point d'indice (corrigé de l'inflation): <br> Réference 1 le \" + init_date,color_discrete_sequence=px.colors.qualitative.D3, template='none')\n",
        "\n",
        "fig.update_xaxes(range=[init_date, df['Date'][-1]], tickangle=-60, nticks=20\n",
        ")\n",
        "fig.update_yaxes(range=[0.80, 1.2])\n",
        "fig.update_layout(showlegend=False)\n",
        "fig.update_traces(hovertemplate='<br>'.join([\n",
        "            \"Date: %{x}\",\n",
        "            \"value: %{y}\",\n",
        "        ]),\n",
        ")\n",
        "\n",
        "\n",
        "# matplotlib version\n",
        "# df.plot(\n",
        "#     x=\"Date\",\n",
        "#     y=[\"Point d'indice(euros constant)\"],\n",
        "#     title=\"Point d'indice (€ corrigé de l'inflation):\\n Réference 1 le \"\n",
        "#     + init_date,\n",
        "# )\n",
        "# ax = plt.gca()\n",
        "# ax.set_xlim(left=np.datetime64(init_date))\n",
        "# ax.set_ylim(bottom=0.80, top=1.2)\n",
        "# ax.legend().remove()"
      ],
      "id": "051bc6db",
      "execution_count": null,
      "outputs": []
    },
    {
      "cell_type": "code",
      "metadata": {},
      "source": [
        "print(f\"Computation was performed at : {current_time} (GMT)\")"
      ],
      "id": "83ebcae2",
      "execution_count": null,
      "outputs": []
    },
    {
      "cell_type": "markdown",
      "metadata": {},
      "source": [
        "Sources are:\n",
        "\n",
        "- inflation : [https://www.insee.fr/fr/statistiques/serie/001763852#Telechargement](https://www.insee.fr/fr/statistiques/serie/001763852#Telechargement)\n",
        "- point d'indice: [https://www.data.gouv.fr/fr/datasets/r/6b5a3e7e-7de7-437c-b8eb-a04ab4138fbb](https://www.data.gouv.fr/fr/datasets/r/6b5a3e7e-7de7-437c-b8eb-a04ab4138fbb)"
      ],
      "id": "a42793a3"
    }
  ],
  "metadata": {
    "kernelspec": {
      "name": "python3",
      "language": "python",
      "display_name": "Python 3 (ipykernel)"
    }
  },
  "nbformat": 4,
  "nbformat_minor": 5
}